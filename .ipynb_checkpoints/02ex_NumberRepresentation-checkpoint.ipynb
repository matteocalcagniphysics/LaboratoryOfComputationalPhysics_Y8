{
 "cells": [
  {
   "cell_type": "markdown",
   "metadata": {},
   "source": [
    "1\\. Write a function that converts number representation, bin<->dec<->hex. (Clearly using the corresponding python built-in functions is not fair..)"
   ]
  },
  {
   "cell_type": "code",
   "execution_count": 16,
   "metadata": {},
   "outputs": [
    {
     "name": "stdout",
     "output_type": "stream",
     "text": [
      "10 in binary is: 101\n",
      "10 in hexadecimal is: ['A', 1]\n"
     ]
    }
   ],
   "source": [
    "def binary(n, b):\n",
    "    if (b == 10):\n",
    "        n_bin = []\n",
    "        res = 0\n",
    "        while(n > 1):\n",
    "            n_bin.append(n%2)\n",
    "            n = int(n/2)\n",
    "        n_bin.append(1)\n",
    "    for i in range(len(n_bin)):\n",
    "        res += n_bin[i]*(10**i)\n",
    "    return res\n",
    "\n",
    "    #if (b == 16):\n",
    "        \n",
    "\n",
    "def hexa(n, b):\n",
    "    base = {10 : 'A', 11 : 'B', 12 : 'C', 13 : 'D', 14 : 'E', 15 : 'F'}\n",
    "    n_hex = []\n",
    "    if(b == 10):\n",
    "        while(n > 1): \n",
    "            div = n%16\n",
    "            if(int(div) < 10):\n",
    "                n_hex.append(div)\n",
    "            else: n_hex.append(base[div])\n",
    "            n = int(n/16)\n",
    "        n_hex.append(1)\n",
    "    return n_hex\n",
    "\n",
    "print(f\"10 in binary is: {binary(5, 10)}\")\n",
    "print(f\"10 in hexadecimal is: {hexa(10, 10)}\") #to finish"
   ]
  },
  {
   "cell_type": "markdown",
   "metadata": {},
   "source": [
    "2\\. Write a function that converts a 32 bit word into a single precision floating point (i.e. interprets the various bits as sign, mantissa and exponent)"
   ]
  },
  {
   "cell_type": "code",
   "execution_count": 25,
   "metadata": {},
   "outputs": [
    {
     "name": "stdout",
     "output_type": "stream",
     "text": [
      "+5.068371937422267e-12\n"
     ]
    }
   ],
   "source": [
    "def float_conv(word):\n",
    "    mantissa, exp = 1, 0\n",
    "    \n",
    "    for i in range(9, 31):\n",
    "        mantissa += 2**(-(i-8)) * int(word[i])\n",
    "    #print(mantissa)\n",
    "    for i in range(1, 9):\n",
    "        exp += 2**(8-i) * int(word[i])\n",
    "    #print(exp)\n",
    "\n",
    "    number = mantissa * 2**(exp - 127)\n",
    "    #print(number)\n",
    "    \n",
    "    if(word[0] == '1'): sign = '+'\n",
    "    else: sign = '-'\n",
    "    #print(sign)\n",
    "\n",
    "    return f\"{sign}{number}\"\n",
    "    \n",
    "print(float_conv('10101100101100100101001111010110'))"
   ]
  },
  {
   "cell_type": "markdown",
   "metadata": {},
   "source": [
    "3\\. Write a program to determine the underflow and overflow limits (within a factor of 2) for python on your computer. \n",
    "\n",
    "**Tips**: define two variables inizialized to 1 and halve/double them enough time to exceed the under/over-flow limits  "
   ]
  },
  {
   "cell_type": "code",
   "execution_count": 5,
   "metadata": {},
   "outputs": [
    {
     "ename": "KeyboardInterrupt",
     "evalue": "",
     "output_type": "error",
     "traceback": [
      "\u001b[0;31m---------------------------------------------------------------------------\u001b[0m",
      "\u001b[0;31mKeyboardInterrupt\u001b[0m                         Traceback (most recent call last)",
      "Cell \u001b[0;32mIn[5], line 23\u001b[0m\n\u001b[1;32m     18\u001b[0m         pot \u001b[38;5;241m+\u001b[39m\u001b[38;5;241m=\u001b[39m \u001b[38;5;241m-\u001b[39m\u001b[38;5;241m1\u001b[39m\n\u001b[1;32m     20\u001b[0m     \u001b[38;5;28;01mreturn\u001b[39;00m pot   \n\u001b[0;32m---> 23\u001b[0m \u001b[38;5;28mprint\u001b[39m(\u001b[38;5;124mf\u001b[39m\u001b[38;5;124m\"\u001b[39m\u001b[38;5;124mthe overflow limit is something of the order of 2^\u001b[39m\u001b[38;5;132;01m{\u001b[39;00m\u001b[43mof_check\u001b[49m\u001b[43m(\u001b[49m\u001b[43m)\u001b[49m\u001b[38;5;132;01m}\u001b[39;00m\u001b[38;5;124m\"\u001b[39m)\n\u001b[1;32m     24\u001b[0m \u001b[38;5;66;03m#print(f\"the underflow limit is something of the order of 2^{uf_check()}\")\u001b[39;00m\n",
      "Cell \u001b[0;32mIn[5], line 5\u001b[0m, in \u001b[0;36mof_check\u001b[0;34m()\u001b[0m\n\u001b[1;32m      3\u001b[0m infinite \u001b[38;5;241m=\u001b[39m \u001b[38;5;28mfloat\u001b[39m(\u001b[38;5;124m'\u001b[39m\u001b[38;5;124m+inf\u001b[39m\u001b[38;5;124m'\u001b[39m)\n\u001b[1;32m      4\u001b[0m pot \u001b[38;5;241m=\u001b[39m \u001b[38;5;241m0\u001b[39m \u001b[38;5;66;03m#power of two\u001b[39;00m\n\u001b[0;32m----> 5\u001b[0m \u001b[38;5;28;01mwhile\u001b[39;00m(v \u001b[38;5;241m!=\u001b[39m infinite):\n\u001b[1;32m      6\u001b[0m     v \u001b[38;5;241m*\u001b[39m\u001b[38;5;241m=\u001b[39m \u001b[38;5;241m2\u001b[39m\u001b[38;5;241m*\u001b[39m\u001b[38;5;241m*\u001b[39m\u001b[38;5;241m100\u001b[39m\n\u001b[1;32m      7\u001b[0m     pot \u001b[38;5;241m+\u001b[39m\u001b[38;5;241m=\u001b[39m \u001b[38;5;241m100\u001b[39m\n",
      "\u001b[0;31mKeyboardInterrupt\u001b[0m: "
     ]
    }
   ],
   "source": [
    "def of_check():\n",
    "    v = 1\n",
    "    infinite = float('+inf')\n",
    "    pot = 0 #power of two\n",
    "    while(v != infinite):\n",
    "        v *= 2\n",
    "        pot += 1\n",
    "\n",
    "    return pot   \n",
    "\n",
    "def uf_check():\n",
    "    v = 1\n",
    "    infinite = float('-inf')\n",
    "    print(infinite)\n",
    "    pot = 0 #power of two\n",
    "    while(v != infinite):\n",
    "        v *= 2**(-1)\n",
    "        pot += -1\n",
    "\n",
    "    return pot   \n",
    "\n",
    "\n",
    "print(f\"the overflow limit is something of the order of 2^{of_check()}\")\n",
    "#print(f\"the underflow limit is something of the order of 2^{uf_check()}\")"
   ]
  },
  {
   "cell_type": "markdown",
   "metadata": {},
   "source": [
    "4\\. Write a program to determine the machine precision\n",
    "\n",
    "**Tips**: define a new variable by adding a smaller and smaller value (proceeding similarly to prob. 2) to an original variable and check the point where the two are the same "
   ]
  },
  {
   "cell_type": "code",
   "execution_count": 2,
   "metadata": {},
   "outputs": [
    {
     "name": "stdout",
     "output_type": "stream",
     "text": [
      "1.1102230246251565e-16\n"
     ]
    }
   ],
   "source": [
    "def machine_precision():\n",
    "    delta = 1\n",
    "    while(1 + delta != 1):\n",
    "        delta /= 2\n",
    "\n",
    "    return delta\n",
    "\n",
    "print(machine_precision())\n",
    "    "
   ]
  },
  {
   "cell_type": "markdown",
   "metadata": {},
   "source": [
    "5\\. Write a function that takes in input three parameters $a$, $b$ and $c$ and prints out the two solutions to the quadratic equation $ax^2+bx+c=0$ using the standard formula:\n",
    "$$\n",
    "x=\\frac{-b\\pm\\sqrt{b^2-4ac}}{2a}\n",
    "$$\n",
    "\n",
    "(a) use the program to compute the solution for $a=0.001$, $b=1000$ and $c=0.001$\n",
    "\n",
    "(b) re-express the standard solution formula by multiplying top and bottom by $-b\\mp\\sqrt{b^2-4ac}$ and again find the solution for $a=0.001$, $b=1000$ and $c=0.001$. How does it compare with what previously obtained? Why?\n",
    "\n",
    "(c) write a function that compute the roots of a quadratic equation accurately in all cases"
   ]
  },
  {
   "cell_type": "code",
   "execution_count": 13,
   "metadata": {},
   "outputs": [
    {
     "name": "stdout",
     "output_type": "stream",
     "text": [
      "The solutions with the first version are -999999.999999 and -9.999894245993346e-07\n",
      "The solutions with the second version are -1000018.1900864029 and -1.00000761449437e-06\n"
     ]
    }
   ],
   "source": [
    "import math\n",
    "\n",
    "#point (a)\n",
    "def soeq_a(a, b, c):\n",
    "    x_1 = (-b - math.sqrt(b**2 - 4*a*c))/(2*a)\n",
    "    x_2 = (-b + math.sqrt(b**2 - 4*a*c))/(2*a)\n",
    "\n",
    "    return x_1, x_2\n",
    "\n",
    "#point (b)\n",
    "def soeq_b(a, b, c):\n",
    "    x_1 = (b**2 - (b**2 - 4*a*c))/(2*a*(-b + math.sqrt(b**2 - 4*a*c)))\n",
    "    x_2 = (b**2 - (b**2 - 4*a*c))/(2*a*(-b - math.sqrt(b**2 - 4*a*c)))\n",
    "\n",
    "    return x_1, x_2\n",
    "\n",
    "#point (c)\n",
    "\n",
    "\n",
    "a, b, c = 0.001, 1000, 0.001\n",
    "\n",
    "sol_1_a, sol_2_a = soeq_a(a, b, c) #version (a)\n",
    "sol_1_b, sol_2_b = soeq_b(a, b, c) #version (b)\n",
    "\n",
    "print(f\"The solutions with the first version are {sol_1_a} and {sol_2_a}\")\n",
    "print(f\"The solutions with the second version are {sol_1_b} and {sol_2_b}\")"
   ]
  },
  {
   "cell_type": "markdown",
   "metadata": {},
   "source": [
    "6\\. Write a program that implements the function $f(x)=x(x−1)$\n",
    "\n",
    "(a) Calculate the derivative of the function at the point $x = 1$ using the derivative definition:\n",
    "\n",
    "$$\n",
    "\\frac{{\\rm d}f}{{\\rm d}x} = \\lim_{\\delta\\to0} \\frac{f(x+\\delta)-f(x)}{\\delta}\n",
    "$$\n",
    "\n",
    "with $\\delta = 10^{−2}$. Calculate the true value of the same derivative analytically and compare with the answer your program gives. The two will not agree perfectly. Why not?\n",
    "\n",
    "(b) Repeat the calculation for $\\delta = 10^{−4}, 10^{−6}, 10^{−8}, 10^{−10}, 10^{−12}$ and $10^{−14}$. How does the accuracy scales with $\\delta$?"
   ]
  },
  {
   "cell_type": "code",
   "execution_count": 19,
   "metadata": {},
   "outputs": [
    {
     "name": "stdout",
     "output_type": "stream",
     "text": [
      "[1.010000000000001, 1.0000999999998899, 1.0000009999177333, 1.0000000039225287, 1.000000082840371, 1.0000889005833413, 0.9992007221626509]\n"
     ]
    }
   ],
   "source": [
    "def f(x):\n",
    "    return x*(x-1)\n",
    "\n",
    "def df_dx(x, delta):\n",
    "    return (f(x + delta) - f(x))/delta\n",
    "\n",
    "delta = [10**(-2), 10**(-4), 10**(-6), 10**(-8), 10**(-10), 10**(-12), 10**(-14)]\n",
    "\n",
    "results = list(map(lambda d: df_dx(1, d), delta))\n",
    "print(results)\n",
    "\n",
    "#print(f\"The derivative with delta = {delta} is: {df_dx(x, delta)}\")"
   ]
  },
  {
   "cell_type": "markdown",
   "metadata": {},
   "source": [
    "7\\. Consider the integral of the semicircle of radius 1:\n",
    "$$\n",
    "I=\\int_{-1}^{1} \\sqrt(1-x^2) {\\rm d}x\n",
    "$$\n",
    "which it's known to be $I=\\frac{\\pi}{2}=1.57079632679...$.\n",
    "Alternatively we can use the Riemann definition of the integral:\n",
    "$$\n",
    "I=\\lim_{N\\to\\infty} \\sum_{k=1}^{N} h y_k \n",
    "$$\n",
    "\n",
    "with $h=2/N$ the width of each of the $N$ slices the domain is divided into and where\n",
    "$y_k$ is the value of the function at the $k-$th slice.\n",
    "\n",
    "(a) Write a programe to compute the integral with $N=100$. How does the result compares to the true value?\n",
    "\n",
    "(b) How much can $N$ be increased if the computation needs to be run in less than a second? What is the gain in running it for 1 minute? \n"
   ]
  },
  {
   "cell_type": "code",
   "execution_count": 25,
   "metadata": {},
   "outputs": [
    {
     "name": "stdout",
     "output_type": "stream",
     "text": [
      "The integral with N = 100 is: 1.5691342555492493\n"
     ]
    }
   ],
   "source": [
    "import math\n",
    "\n",
    "def f(x):\n",
    "    return math.sqrt(1 - x**2)\n",
    "\n",
    "def integral(x_i, x_f):\n",
    "    N = 100\n",
    "    h = (x_f - x_i)/N\n",
    "    result = 0\n",
    "    while(x_i < x_f):\n",
    "        if(x_i + h > 1): break\n",
    "        result += h * f(x_i + h)\n",
    "        x_i += h \n",
    "    return result\n",
    "\n",
    "print(f\"The integral with N = 100 is: {integral(-1, 1)}\")"
   ]
  },
  {
   "cell_type": "code",
   "execution_count": null,
   "metadata": {},
   "outputs": [],
   "source": []
  }
 ],
 "metadata": {
  "kernelspec": {
   "display_name": "Python 3 (ipykernel)",
   "language": "python",
   "name": "python3"
  },
  "language_info": {
   "codemirror_mode": {
    "name": "ipython",
    "version": 3
   },
   "file_extension": ".py",
   "mimetype": "text/x-python",
   "name": "python",
   "nbconvert_exporter": "python",
   "pygments_lexer": "ipython3",
   "version": "3.13.7"
  }
 },
 "nbformat": 4,
 "nbformat_minor": 4
}
