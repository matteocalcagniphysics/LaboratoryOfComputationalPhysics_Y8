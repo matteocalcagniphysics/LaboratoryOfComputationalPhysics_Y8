{
 "cells": [
  {
   "cell_type": "markdown",
   "metadata": {},
   "source": [
    "1. The MickeyMouse problem\n",
    "\n",
    "a) Write a program that prints the numbers from 1 to 100. But for multiples of 3 print `Mickey` instead of the corresponding number and for the multiples of 5 print `Mouse`. For numbers which are multiples of both three and five print `MickeyMouse`\n",
    "\n",
    "b) Put the result in a tuple and substitute `Mickey` with `Donald` and `Mouse` with `Duck`"
   ]
  },
  {
   "cell_type": "code",
   "execution_count": 4,
   "metadata": {
    "scrolled": true
   },
   "outputs": [
    {
     "name": "stdout",
     "output_type": "stream",
     "text": [
      "(1, 2, 'Donald', 4, 'Duck', 'Donald', 7, 8, 'Donald', 'Duck', 11, 'Donald', 13, 14, 'Mickeymouse', 16, 17, 'Donald', 19, 'Duck', 'Donald', 22, 23, 'Donald', 'Duck', 26, 'Donald', 28, 29, 'Mickeymouse', 31, 32, 'Donald', 34, 'Duck', 'Donald', 37, 38, 'Donald', 'Duck', 41, 'Donald', 43, 44, 'Mickeymouse', 46, 47, 'Donald', 49, 'Duck', 'Donald', 52, 53, 'Donald', 'Duck', 56, 'Donald', 58, 59, 'Mickeymouse', 61, 62, 'Donald', 64, 'Duck', 'Donald', 67, 68, 'Donald', 'Duck', 71, 'Donald', 73, 74, 'Mickeymouse', 76, 77, 'Donald', 79, 'Duck', 'Donald', 82, 83, 'Donald', 'Duck', 86, 'Donald', 88, 89, 'Mickeymouse', 91, 92, 'Donald', 94, 'Duck', 'Donald', 97, 98, 'Donald')\n"
     ]
    }
   ],
   "source": [
    "first = ()\n",
    "second = ()\n",
    "\n",
    "for i in range(1, 100):\n",
    "    if (i%3 == 0) & (i%5 != 0): v = \"Mickey\"\n",
    "    elif (i%5 == 0) & (i%3 != 0): v = \"Mouse\"\n",
    "    elif (i%3 == 0) & (i%5 == 0): v = \"Mickeymouse\"\n",
    "    else: v = i\n",
    "    first = first + (v,)\n",
    "\n",
    "#print(extuple)\n",
    "\n",
    "for name in first:\n",
    "    if (name == \"Mickey\"): second = second + (\"Donald\",)\n",
    "    elif (name == \"Mouse\"): second = second + (\"Duck\",)\n",
    "    else: second = second + (name,)\n",
    "print(second)"
   ]
  },
  {
   "cell_type": "markdown",
   "metadata": {},
   "source": [
    "2\\. The swap function\n",
    "\n",
    "Write a function that swap the values of two input variables x and y (whatever the type). Try to do that also without a temporary variable"
   ]
  },
  {
   "cell_type": "code",
   "execution_count": 7,
   "metadata": {},
   "outputs": [
    {
     "name": "stdout",
     "output_type": "stream",
     "text": [
      "new variables: 2 \t 1\n"
     ]
    }
   ],
   "source": [
    "def swap(x,y):\n",
    "    l1 = [x, y]\n",
    "    l2 = [l1[1], l1[0]]\n",
    "    x, y = l2[0], l2[1]\n",
    "    return x, y\n",
    "\n",
    "x, y = 1, 2\n",
    "new_x, new_y = swap(x,y)\n",
    "print(f\"new variables: {new_x} \\t {new_y}\")"
   ]
  },
  {
   "cell_type": "markdown",
   "metadata": {},
   "source": [
    "3\\. Computing the distance\n",
    "\n",
    "Write a function that calculates and returns the euclidean distance between two points *u* and *v*, where *u* and *v* are both 2-tuples *(x,y)*. For example, if *u=(3,0)* and *v=(0,4)*, the function should return 5"
   ]
  },
  {
   "cell_type": "code",
   "execution_count": 10,
   "metadata": {},
   "outputs": [
    {
     "name": "stdout",
     "output_type": "stream",
     "text": [
      "4.242640687119285\n"
     ]
    }
   ],
   "source": [
    "import math\n",
    "def distance(u, v):\n",
    "    d = math.sqrt((u[0]-v[0])**2 + (u[1] - v[1])**2)\n",
    "    return d\n",
    "\n",
    "u, v = (1,2), (4,5)\n",
    "print(distance(u,v))\n"
   ]
  },
  {
   "cell_type": "markdown",
   "metadata": {},
   "source": [
    "4\\. Counting letters\n",
    "\n",
    "Write a program to calculate the number of times each character occurs in a given string *s*. Ignore differneces in capitalization"
   ]
  },
  {
   "cell_type": "code",
   "execution_count": 23,
   "metadata": {},
   "outputs": [
    {
     "name": "stdout",
     "output_type": "stream",
     "text": [
      "{'w': 2, 'r': 17, 'i': 14, 't': 19, 'e': 22, ' ': 41, 'a': 7, 'p': 8, 'o': 13, 'g': 1, 'm': 12, 'h': 9, 'n': 10, 's': 9, 'u': 9, 'b': 5, 'f': 10, '1': 2, '0': 2, '.': 2, 'l': 6, 'c': 3, 'k': 2, 'y': 2, 'd': 3, 'v': 2}\n"
     ]
    }
   ],
   "source": [
    "s=\"Write a program that prints the numbers from 1 to 100. \\\n",
    "But for multiples of three print Mickey instead of the number and for the multiples of five print Mouse. \\\n",
    "For numbers which are multiples of both three and five print MickeyMouse\"\n",
    "\n",
    "char_count = 0\n",
    "characters = {}\n",
    "a = s.lower()\n",
    "for char in a:\n",
    "    if char not in characters:\n",
    "        characters[char] = 1\n",
    "    else: characters[char] += 1\n",
    "\n",
    "print(characters)\n"
   ]
  },
  {
   "cell_type": "markdown",
   "metadata": {},
   "source": [
    "5\\. Isolating the unique\n",
    "\n",
    "Write a function that determines and count the unique numbers in the list *l*"
   ]
  },
  {
   "cell_type": "code",
   "execution_count": 28,
   "metadata": {},
   "outputs": [
    {
     "name": "stdout",
     "output_type": "stream",
     "text": [
      "[58, 74, 96, 64, 10, 24, 19, 33, 86, 99, 18, 47, 88, 55, 54, 8, 79, 81, 57, 37, 1, 9, 95, 90, 98, 39, 16, 82, 92, 41, 45, 30, 70, 85, 94, 5, 36, 72, 91, 87, 75, 53, 51, 20] \n",
      "there are 44 unique numbers\n"
     ]
    }
   ],
   "source": [
    "l = [36, 45, 58, 3, 74, 96, 64, 45, 31, 10, 24, 19, 33, 86, 99, 18, 63, 70, 85,\n",
    " 85, 63, 47, 56, 42, 70, 84, 88, 55, 20, 54, 8, 56, 51, 79, 81, 57, 37, 91,\n",
    " 1, 84, 84, 36, 66, 9, 89, 50, 42, 91, 50, 95, 90, 98, 39, 16, 82, 31, 92, 41,\n",
    " 45, 30, 66, 70, 34, 85, 94, 5, 3, 36, 72, 91, 84, 34, 87, 75, 53, 51, 20, 89, 51, 20]\n",
    "\n",
    "unique = []\n",
    "\n",
    "for number in l:\n",
    "    if (number not in unique): unique.append(number)\n",
    "    else: unique.remove(number)\n",
    "\n",
    "print(f\"{unique} \\nthere are {len(unique)} unique numbers\")"
   ]
  },
  {
   "cell_type": "markdown",
   "metadata": {},
   "source": [
    "6\\. Combination of functions\n",
    "\n",
    "Write two functions - one that returns the square of a number, and one that returns the cube. Now write a third function that returns the number raised to the 6th power using the two previous functions."
   ]
  },
  {
   "cell_type": "code",
   "execution_count": 29,
   "metadata": {},
   "outputs": [
    {
     "name": "stdout",
     "output_type": "stream",
     "text": [
      "64\n"
     ]
    }
   ],
   "source": [
    "def square(x):\n",
    "    return x**2\n",
    "    \n",
    "def cube(x):\n",
    "    return x**3\n",
    "    \n",
    "def sixthpower(x):\n",
    "    return cube(square(x))\n",
    "\n",
    "x = 2\n",
    "print(sixthpower(x))"
   ]
  },
  {
   "cell_type": "markdown",
   "metadata": {},
   "source": [
    "7\\. Cubes\n",
    "\n",
    "Create a list of the cubes of x for x in *[0, 10]* using:\n",
    "\n",
    "a) a for loop\n",
    "\n",
    "b) a list comprehension"
   ]
  },
  {
   "cell_type": "code",
   "execution_count": 30,
   "metadata": {},
   "outputs": [
    {
     "name": "stdout",
     "output_type": "stream",
     "text": [
      "[0, 1, 8, 27, 64, 125, 216, 343, 512, 729]\n"
     ]
    }
   ],
   "source": [
    "cubes = []\n",
    "for x in range(0,10):\n",
    "    cubes.append(x**3)\n",
    "\n",
    "print(cubes)"
   ]
  },
  {
   "cell_type": "code",
   "execution_count": 32,
   "metadata": {},
   "outputs": [
    {
     "name": "stdout",
     "output_type": "stream",
     "text": [
      "[0, 1, 8, 27, 64, 125, 216, 343, 512, 729]\n"
     ]
    }
   ],
   "source": [
    "cubes = [x**3 for x in range(0, 10)]\n",
    "print(cubes)"
   ]
  },
  {
   "cell_type": "markdown",
   "metadata": {},
   "source": [
    "8\\. Nested list comprehension\n",
    "\n",
    "A Pythagorean triple is an integer solution to the Pythagorean theorem $a^2+b^2=c^2$. The first Pythagorean triple is (3,4,5). Find and put in a tuple all unique Pythagorean triples for the positive integers a, b and c less than 100."
   ]
  },
  {
   "cell_type": "code",
   "execution_count": 45,
   "metadata": {},
   "outputs": [
    {
     "name": "stdout",
     "output_type": "stream",
     "text": [
      "((3, 4, 5), (5, 12, 13), (6, 8, 10), (7, 24, 25), (8, 15, 17), (9, 12, 15), (9, 40, 41), (10, 24, 26), (11, 60, 61), (12, 16, 20), (12, 35, 37), (13, 84, 85), (14, 48, 50), (15, 20, 25), (15, 36, 39), (16, 30, 34), (16, 63, 65), (18, 24, 30), (18, 80, 82), (20, 21, 29), (20, 48, 52), (21, 28, 35), (21, 72, 75), (24, 32, 40), (24, 45, 51), (24, 70, 74), (25, 60, 65), (27, 36, 45), (28, 45, 53), (30, 40, 50), (30, 72, 78), (32, 60, 68), (33, 44, 55), (33, 56, 65), (35, 84, 91), (36, 48, 60), (36, 77, 85), (39, 52, 65), (39, 80, 89), (40, 42, 58), (40, 75, 85), (42, 56, 70), (45, 60, 75), (48, 55, 73), (48, 64, 80), (51, 68, 85), (54, 72, 90), (57, 76, 95), (60, 63, 87), (65, 72, 97))\n"
     ]
    }
   ],
   "source": [
    "import math\n",
    "\n",
    "def Ptriple(a,b):\n",
    "    c = math.sqrt(a**2 + b**2)\n",
    "    if (c.is_integer() and c < 100): \n",
    "        return (a,b,int(c))\n",
    "    else: return None\n",
    "\n",
    "Ptriple_tuple = ()\n",
    "\n",
    "for a in range(1, 100):\n",
    "    for b in range(a, 100):\n",
    "        if (Ptriple(a,b) is not None):Ptriple_tuple = Ptriple_tuple + (Ptriple(a,b),)\n",
    "\n",
    "print(Ptriple_tuple)\n",
    "    "
   ]
  },
  {
   "cell_type": "markdown",
   "metadata": {},
   "source": [
    "9\\. Normalization\n",
    "\n",
    "Write a function that takes a tuple of numbers and returns it with the entries normalized to one"
   ]
  },
  {
   "cell_type": "code",
   "execution_count": 37,
   "metadata": {},
   "outputs": [
    {
     "name": "stdout",
     "output_type": "stream",
     "text": [
      "(0.0, 0.050964719143762556, 0.10192943828752511, 0.15289415743128767, 0.20385887657505022, 0.2548235957188128, 0.30578831486257535, 0.3567530340063379, 0.40771775315010045, 0.458682472293863, 0.5096471914376256)\n"
     ]
    }
   ],
   "source": [
    "import math\n",
    "\n",
    "t = (0, 1, 2, 3, 4, 5, 6, 7, 8, 9, 10)\n",
    "norm = 0\n",
    "\n",
    "for x in t:\n",
    "    norm += x**2\n",
    "norm = math.sqrt(norm)\n",
    "\n",
    "normalized = ()\n",
    "\n",
    "for x in t: \n",
    "    normalized = normalized + (x/norm,)\n",
    "\n",
    "print(normalized)"
   ]
  }
 ],
 "metadata": {
  "kernelspec": {
   "display_name": "Python 3 (ipykernel)",
   "language": "python",
   "name": "python3"
  },
  "language_info": {
   "codemirror_mode": {
    "name": "ipython",
    "version": 3
   },
   "file_extension": ".py",
   "mimetype": "text/x-python",
   "name": "python",
   "nbconvert_exporter": "python",
   "pygments_lexer": "ipython3",
   "version": "3.13.7"
  }
 },
 "nbformat": 4,
 "nbformat_minor": 4
}
